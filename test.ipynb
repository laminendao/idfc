{
 "cells": [
  {
   "cell_type": "code",
   "execution_count": 1,
   "metadata": {},
   "outputs": [],
   "source": [
    "import pandas as pd\n",
    "import numpy as np\n",
    "from sklearn.datasets import load_diabetes\n",
    "from idfc.idfc import run_idfc\n",
    "from idfc.utils import compute_variable_correlations"
   ]
  },
  {
   "cell_type": "code",
   "execution_count": 2,
   "metadata": {},
   "outputs": [],
   "source": [
    "# --- Load example dataset ---\n",
    "X_raw = load_diabetes(as_frame=True).frame.drop(columns='target')\n",
    "X = (X_raw - X_raw.mean()) / X_raw.std()"
   ]
  },
  {
   "cell_type": "code",
   "execution_count": 45,
   "metadata": {},
   "outputs": [
    {
     "name": "stdout",
     "output_type": "stream",
     "text": [
      "   Cluster Variable    RS_Own     RS_NC  RS_Ratio\n",
      "0        0      sex  0.407090  0.060259  0.630929\n",
      "1        0       s3  0.808504  0.145330  0.224058\n",
      "2        0       s4  0.777680  0.380896  0.359099\n",
      "3        1       s1  0.948331  0.211875  0.065559\n",
      "4        1       s2  0.948331  0.181641  0.063137\n",
      "5        2      age  0.306923  0.060562  0.737758\n",
      "6        2      bmi  0.491944  0.141952  0.592107\n",
      "7        2       bp  0.526635  0.073862  0.511117\n",
      "8        2       s5  0.570794  0.251140  0.573146\n",
      "9        2       s6  0.550914  0.140378  0.522422\n"
     ]
    },
    {
     "data": {
      "text/plain": [
       "{'cluster_0': [0, 1, 2], 'cluster_1': [3, 4], 'cluster_2': [5, 6, 7, 8, 9]}"
      ]
     },
     "execution_count": 45,
     "metadata": {},
     "output_type": "execute_result"
    }
   ],
   "source": [
    "from varclushi import VarClusHi\n",
    "\n",
    "resclv = VarClusHi(X,maxeigval2=1,maxclus=None)\n",
    "resclv.varclus()\n",
    "\n",
    "print(resclv.rsquare)\n",
    "\n",
    "# 2. Récupérer l'affectation des variables à leur cluster\n",
    "cluster_assignments = resclv.rsquare.Cluster  # Series avec index = noms des variables\n",
    "\n",
    "# 3. Convertir en dictionnaire de liste\n",
    "partition = {}\n",
    "for label in cluster_assignments.unique():\n",
    "    features = cluster_assignments[cluster_assignments == label].index.tolist()\n",
    "    partition[f\"cluster_{label}\"] = features\n",
    "partition"
   ]
  },
  {
   "cell_type": "code",
   "execution_count": 62,
   "metadata": {},
   "outputs": [],
   "source": [
    "import numpy as np\n",
    "import pandas as pd\n",
    "from sklearn.decomposition import PCA\n",
    "\n",
    "def compute_cov2(x, c):\n",
    "    \"\"\"Covariance au carré entre une variable x et un vecteur c.\"\"\"\n",
    "    return np.cov(x, c)[0, 1] ** 2\n",
    "\n",
    "def refine_partition(X, init_partition, rho=0.3, max_iter=100, tol=1e-5):\n",
    "    \"\"\"\n",
    "    Raffinement de la partition via CLV avec stratégie K+1.\n",
    "    \n",
    "    Paramètres :\n",
    "    ------------\n",
    "    X : DataFrame (n échantillons x p variables)\n",
    "    init_partition : dict[str, list[str]]\n",
    "        Dictionnaire {cluster_k : [features]} initial (souvent issu de VARCLUS)\n",
    "    rho : float\n",
    "        Seuil de corrélation au carré pour affectation dans un vrai cluster. Sinon → bruit.\n",
    "    max_iter : int\n",
    "        Nombre maximal d’itérations\n",
    "    tol : float\n",
    "        Tolérance pour le critère de convergence\n",
    "    \n",
    "    Retourne :\n",
    "    ----------\n",
    "    clusters : dict[str, list[str]] avec un cluster spécial 'noise'\n",
    "    components : dict[str, np.ndarray] : composantes principales normalisées de chaque cluster\n",
    "    \"\"\"\n",
    "    p_names = X.columns\n",
    "    X = X.copy()\n",
    "    n_features = len(p_names)\n",
    "    \n",
    "    clusters = init_partition.copy()\n",
    "    noise_cluster = \"noise\"\n",
    "    clusters[noise_cluster] = []\n",
    "    \n",
    "    prev_assignments = None\n",
    "    \n",
    "    for key, clus in clusters.items():\n",
    "        clusters[key] = p_names[clus]\n",
    "    # print(p_names[clus])\n",
    "        \n",
    "    for iteration in range(max_iter):\n",
    "        # Étape 1 : calcul des premières composantes pour chaque cluster\n",
    "        components = {}\n",
    "        for k, vars_k in clusters.items():\n",
    "            if k == noise_cluster or len(vars_k) < 2:\n",
    "                continue\n",
    "            pca = PCA(n_components=1)\n",
    "            # print(vars_k)\n",
    "            components[k] = pca.fit(X[vars_k]).components_[0]\n",
    "        # Étape 2 : assignation avec règle K+1\n",
    "        new_clusters = {k: [] for k in clusters}\n",
    "        for j in p_names:\n",
    "            best_k = None\n",
    "            best_score = -np.inf\n",
    "            xj = X[j].values\n",
    "            for k, comp in components.items():\n",
    "                c_vec = X[clusters[k]].values @ comp\n",
    "                score = compute_cov2(xj, c_vec)\n",
    "                if score > best_score:\n",
    "                    best_score = score\n",
    "                    best_k = k\n",
    "            var_j = np.var(xj)\n",
    "            if best_score >= rho**2 * var_j:\n",
    "                new_clusters[best_k].append(j)\n",
    "            else:\n",
    "                new_clusters[noise_cluster].append(j)\n",
    "        # Vérifier convergence\n",
    "        current_assignments = [sorted(v) for v in new_clusters.values()]\n",
    "        if prev_assignments is not None:\n",
    "            diffs = [set(a) != set(b) for a, b in zip(prev_assignments, current_assignments)]\n",
    "            if not any(diffs):\n",
    "                break\n",
    "        prev_assignments = current_assignments\n",
    "        clusters = new_clusters\n",
    "\n",
    "        # Recalcul final des composantes (hors clusters de taille < 2 sauf \"noise\")\n",
    "    final_components = {}\n",
    "    filtered_clusters = {}\n",
    "\n",
    "    for k, vars_k in clusters.items():\n",
    "        if len(vars_k) == 0 and k != \"noise\":\n",
    "            continue  # Supprimer les clusters vides (sauf \"noise\")\n",
    "        if k != \"noise\" and len(vars_k) >= 2:\n",
    "            pca = PCA(n_components=1)\n",
    "            final_components[k] = pca.fit_transform(X[vars_k])\n",
    "        filtered_clusters[k] = vars_k  # inclut aussi \"noise\", même vide\n",
    "\n",
    "    return filtered_clusters, final_components\n"
   ]
  },
  {
   "cell_type": "code",
   "execution_count": 79,
   "metadata": {},
   "outputs": [
    {
     "data": {
      "text/plain": [
       "dict_items([('cluster_0', [0, 1, 2]), ('cluster_1', [3, 4]), ('cluster_2', [5, 6, 7, 8, 9])])"
      ]
     },
     "execution_count": 79,
     "metadata": {},
     "output_type": "execute_result"
    }
   ],
   "source": [
    "partition.items()"
   ]
  },
  {
   "cell_type": "code",
   "execution_count": 92,
   "metadata": {},
   "outputs": [
    {
     "data": {
      "text/plain": [
       "{'cluster_0': [0, 1, 2], 'cluster_1': [3, 4], 'cluster_2': [5, 6, 7, 8, 9]}"
      ]
     },
     "execution_count": 92,
     "metadata": {},
     "output_type": "execute_result"
    }
   ],
   "source": [
    "partition"
   ]
  },
  {
   "cell_type": "code",
   "execution_count": 64,
   "metadata": {},
   "outputs": [],
   "source": [
    "clusters, pca_result = refine_partition(X=X, \n",
    "                 init_partition=partition, \n",
    "                 rho=0.3, \n",
    "                 max_iter=100, \n",
    "                 tol=1e-5)"
   ]
  },
  {
   "cell_type": "code",
   "execution_count": 66,
   "metadata": {},
   "outputs": [
    {
     "data": {
      "text/plain": [
       "(442, 1)"
      ]
     },
     "execution_count": 66,
     "metadata": {},
     "output_type": "execute_result"
    }
   ],
   "source": [
    "pca_result['cluster_0'].shape"
   ]
  },
  {
   "cell_type": "code",
   "execution_count": 72,
   "metadata": {},
   "outputs": [
    {
     "name": "stdout",
     "output_type": "stream",
     "text": [
      "Étape 1 : Initialisation (VARCLUS)...\n",
      "Étape 2 : Raffinement (CLV k+1)...\n",
      "Étape 3 : Sélection des variables interprétables...\n",
      "🎯 Selected representative features:\n",
      "['sex', 's4', None]\n"
     ]
    }
   ],
   "source": [
    "# --- Compute correlation tables ---\n",
    "# correlations = compute_variable_correlations(X, clusters_c, components=None)\n",
    "\n",
    "# # --- Export tables to CSV ---\n",
    "# for cluster, df in correlations.items():\n",
    "#     filename = f\"cluster_{cluster}_correlations.csv\"\n",
    "#     df.to_csv(filename)\n",
    "#     print(f\"✅ Cluster '{cluster}' saved to {filename}\")\n"
   ]
  },
  {
   "cell_type": "markdown",
   "metadata": {},
   "source": [
    "Tester la class"
   ]
  },
  {
   "cell_type": "code",
   "execution_count": 4,
   "metadata": {},
   "outputs": [],
   "source": [
    "import pandas as pd\n",
    "from varclushi import VarClusHi\n",
    "from sklearn.decomposition import PCA\n",
    "\n",
    "\n",
    "from utils import *"
   ]
  },
  {
   "cell_type": "code",
   "execution_count": 23,
   "metadata": {},
   "outputs": [],
   "source": [
    "\n",
    "def initialize_partition(X, maxeigval2=1.0):\n",
    "    \"\"\"\n",
    "    Partition initiale des variables par VARCLUS (VarClusHi).\n",
    "    \n",
    "    Regroupe les variables en clusters hiérarchiques selon leur corrélation.\n",
    "\n",
    "    Paramètres :\n",
    "    ------------\n",
    "    X : pd.DataFrame\n",
    "        Matrice de données (n, p)\n",
    "    maxeigval2 : float\n",
    "        Seuil d’arrêt de la division (valeur max du 2ème eigenvalue)\n",
    "\n",
    "    Retour :\n",
    "    --------\n",
    "    partition : dict[str, list[str]]\n",
    "        Dictionnaire des clusters : {nom_cluster : [variables]}\n",
    "    \"\"\"\n",
    "    varclus = VarClusHi(X, maxeigval2=maxeigval2)\n",
    "    varclus.varclus()\n",
    "\n",
    "    cluster_assignments = varclus.rsquare.Cluster\n",
    "    partition = {}\n",
    "    for label in cluster_assignments.unique():\n",
    "        features = cluster_assignments[cluster_assignments == label].index.tolist()\n",
    "        partition[f\"cluster_{label}\"] = features\n",
    "\n",
    "    return partition\n",
    "\n",
    "def refine_partition(X, init_partition, rho=0.3, max_iter=100, tol=1e-5):\n",
    "    \"\"\"\n",
    "    Raffinement de la partition via CLV avec stratégie K+1.\n",
    "    \n",
    "    Paramètres :\n",
    "    ------------\n",
    "    X : DataFrame (n échantillons x p variables)\n",
    "    init_partition : dict[str, list[str]]\n",
    "        Dictionnaire {cluster_k : [features]} initial (souvent issu de VARCLUS)\n",
    "    rho : float\n",
    "        Seuil de corrélation au carré pour affectation dans un vrai cluster. Sinon → bruit.\n",
    "    max_iter : int\n",
    "        Nombre maximal d’itérations\n",
    "    tol : float\n",
    "        Tolérance pour le critère de convergence\n",
    "    \n",
    "    Retourne :\n",
    "    ----------\n",
    "    clusters : dict[str, list[str]] avec un cluster spécial 'noise'\n",
    "    components : dict[str, np.ndarray] : composantes principales normalisées de chaque cluster\n",
    "    \"\"\"\n",
    "    p_names = X.columns\n",
    "    X = X.copy()\n",
    "    n_features = len(p_names)\n",
    "    \n",
    "    clusters = init_partition.copy()\n",
    "    noise_cluster = \"noise\"\n",
    "    clusters[noise_cluster] = []\n",
    "    \n",
    "    prev_assignments = None\n",
    "    \n",
    "    for key, clus in clusters.items():\n",
    "        clusters[key] = p_names[clus]\n",
    "    # print(p_names[clus])\n",
    "        \n",
    "    for iteration in range(max_iter):\n",
    "        # Étape 1 : calcul des premières composantes pour chaque cluster\n",
    "        components = {}\n",
    "        for k, vars_k in clusters.items():\n",
    "            if k == noise_cluster or len(vars_k) < 2:\n",
    "                continue\n",
    "            pca = PCA(n_components=1)\n",
    "            # print(vars_k)\n",
    "            components[k] = pca.fit(X[vars_k]).components_[0]\n",
    "        # Étape 2 : assignation avec règle K+1\n",
    "        new_clusters = {k: [] for k in clusters}\n",
    "        for j in p_names:\n",
    "            best_k = None\n",
    "            best_score = -np.inf\n",
    "            xj = X[j].values\n",
    "            for k, comp in components.items():\n",
    "                c_vec = X[clusters[k]].values @ comp\n",
    "                score = compute_cov2(xj, c_vec)\n",
    "                if score > best_score:\n",
    "                    best_score = score\n",
    "                    best_k = k\n",
    "            var_j = np.var(xj)\n",
    "            if best_score >= rho**2 * var_j:\n",
    "                new_clusters[best_k].append(j)\n",
    "            else:\n",
    "                new_clusters[noise_cluster].append(j)\n",
    "        # Vérifier convergence\n",
    "        current_assignments = [sorted(v) for v in new_clusters.values()]\n",
    "        if prev_assignments is not None:\n",
    "            diffs = [set(a) != set(b) for a, b in zip(prev_assignments, current_assignments)]\n",
    "            if not any(diffs):\n",
    "                break\n",
    "        prev_assignments = current_assignments\n",
    "        clusters = new_clusters\n",
    "\n",
    "    # Recalcul final des composantes (hors clusters de taille < 2 sauf \"noise\")\n",
    "    final_components = {}\n",
    "    filtered_clusters = {}\n",
    "\n",
    "    for k, vars_k in clusters.items():\n",
    "        if len(vars_k) == 0 and k != \"noise\":\n",
    "            continue  # Supprimer les clusters vides (sauf \"noise\")\n",
    "        if k != \"noise\" and len(vars_k) >= 2:\n",
    "            pca = PCA(n_components=1)\n",
    "            final_components[k] = pca.fit(X[vars_k]).components_[0]\n",
    "        filtered_clusters[k] = vars_k  # inclut aussi \"noise\", même vide\n",
    "\n",
    "    return filtered_clusters, final_components\n",
    "\n",
    "def select_interpretable_features(X, clusters, components):\n",
    "    \"\"\"\n",
    "    Pour chaque cluster (sauf 'noise'), sélectionne la variable la plus corrélée\n",
    "    à la composante principale du cluster.\n",
    "    \"\"\"\n",
    "    selected = []\n",
    "    for k, features in clusters.items():\n",
    "        if k not in components:\n",
    "            continue  # ignore 'noise' ou tout cluster sans composante\n",
    "        best_var = None\n",
    "        best_score = -np.inf\n",
    "        c_vec = X[features].dot(components[k])\n",
    "        for feat in features:\n",
    "            r = np.corrcoef(X[feat], c_vec)[0, 1]\n",
    "            corr = r**2\n",
    "            if corr > best_score:\n",
    "                best_score = corr\n",
    "                best_var = feat\n",
    "        selected.append(best_var)\n",
    "    return selected\n",
    "\n",
    "# from .varclus_init import initialize_partition\n",
    "# from .clv_refinement import refine_partition\n",
    "# from .feature_selection import select_interpretable_features\n",
    "\n",
    "def run_idfc(X, rho=0.3, verbose=False):\n",
    "    \"\"\"\n",
    "    Pipeline complet de l'algorithme IDFC :\n",
    "    - Initialisation avec VARCLUS\n",
    "    - Raffinement avec CLV k+1\n",
    "    - Sélection de variables interprétables\n",
    "    \"\"\"\n",
    "    if verbose:\n",
    "        print(\"Étape 1 : Initialisation (VARCLUS)...\")\n",
    "    initial_partition = initialize_partition(X)\n",
    "    \n",
    "    if verbose:\n",
    "        print(\"Étape 2 : Raffinement (CLV k+1)...\")\n",
    "    refined_partition, latent_components = refine_partition(X, initial_partition, rho=rho)\n",
    "\n",
    "    if verbose:\n",
    "        print(\"Étape 3 : Sélection des variables interprétables...\")\n",
    "    selected_features = select_interpretable_features(X, refined_partition, latent_components)\n",
    "\n",
    "    return selected_features, refined_partition"
   ]
  },
  {
   "cell_type": "code",
   "execution_count": 20,
   "metadata": {},
   "outputs": [],
   "source": [
    "from sklearn.datasets import load_diabetes\n",
    "\n",
    "# --- Load example dataset ---\n",
    "X_raw = load_diabetes(as_frame=True).frame.drop(columns='target')\n",
    "X = (X_raw - X_raw.mean()) / X_raw.std()\n",
    "X=X_raw"
   ]
  },
  {
   "cell_type": "code",
   "execution_count": 21,
   "metadata": {},
   "outputs": [
    {
     "name": "stdout",
     "output_type": "stream",
     "text": [
      "Étape 1 : Initialisation (VARCLUS)...\n",
      "Étape 2 : Raffinement (CLV k+1)...\n",
      "Étape 3 : Sélection des variables interprétables...\n"
     ]
    },
    {
     "ename": "KeyError",
     "evalue": "'noise'",
     "output_type": "error",
     "traceback": [
      "\u001b[31m---------------------------------------------------------------------------\u001b[39m",
      "\u001b[31mKeyError\u001b[39m                                  Traceback (most recent call last)",
      "\u001b[36mCell\u001b[39m\u001b[36m \u001b[39m\u001b[32mIn[21]\u001b[39m\u001b[32m, line 2\u001b[39m\n\u001b[32m      1\u001b[39m \u001b[38;5;66;03m# --- Run IDFC with noise cluster (rho=0.3) ---\u001b[39;00m\n\u001b[32m----> \u001b[39m\u001b[32m2\u001b[39m selected_features, pca_cluster = \u001b[43mrun_idfc\u001b[49m\u001b[43m(\u001b[49m\u001b[43mX\u001b[49m\u001b[43m,\u001b[49m\u001b[43m \u001b[49m\u001b[43mrho\u001b[49m\u001b[43m=\u001b[49m\u001b[32;43m0.3\u001b[39;49m\u001b[43m,\u001b[49m\u001b[43m \u001b[49m\u001b[43mverbose\u001b[49m\u001b[43m=\u001b[49m\u001b[38;5;28;43;01mTrue\u001b[39;49;00m\u001b[43m)\u001b[49m\n\u001b[32m      4\u001b[39m \u001b[38;5;28mprint\u001b[39m(\u001b[33m\"\u001b[39m\u001b[33m🎯 Selected representative features:\u001b[39m\u001b[33m\"\u001b[39m)\n\u001b[32m      5\u001b[39m \u001b[38;5;28mprint\u001b[39m(selected_features)\n",
      "\u001b[36mCell\u001b[39m\u001b[36m \u001b[39m\u001b[32mIn[8]\u001b[39m\u001b[32m, line 151\u001b[39m, in \u001b[36mrun_idfc\u001b[39m\u001b[34m(X, rho, verbose)\u001b[39m\n\u001b[32m    149\u001b[39m \u001b[38;5;28;01mif\u001b[39;00m verbose:\n\u001b[32m    150\u001b[39m     \u001b[38;5;28mprint\u001b[39m(\u001b[33m\"\u001b[39m\u001b[33mÉtape 3 : Sélection des variables interprétables...\u001b[39m\u001b[33m\"\u001b[39m)\n\u001b[32m--> \u001b[39m\u001b[32m151\u001b[39m selected_features = \u001b[43mselect_interpretable_features\u001b[49m\u001b[43m(\u001b[49m\u001b[43mX\u001b[49m\u001b[43m,\u001b[49m\u001b[43m \u001b[49m\u001b[43mrefined_partition\u001b[49m\u001b[43m,\u001b[49m\u001b[43m \u001b[49m\u001b[43mlatent_components\u001b[49m\u001b[43m)\u001b[49m\n\u001b[32m    153\u001b[39m \u001b[38;5;28;01mreturn\u001b[39;00m selected_features, refined_partition\n",
      "\u001b[36mCell\u001b[39m\u001b[36m \u001b[39m\u001b[32mIn[8]\u001b[39m\u001b[32m, line 123\u001b[39m, in \u001b[36mselect_interpretable_features\u001b[39m\u001b[34m(X, clusters, components)\u001b[39m\n\u001b[32m    121\u001b[39m best_score = -np.inf\n\u001b[32m    122\u001b[39m \u001b[38;5;28;01mfor\u001b[39;00m feat \u001b[38;5;129;01min\u001b[39;00m features:\n\u001b[32m--> \u001b[39m\u001b[32m123\u001b[39m     corr = np.corrcoef(X[feat], X[features].dot(\u001b[43mcomponents\u001b[49m\u001b[43m[\u001b[49m\u001b[43mk\u001b[49m\u001b[43m]\u001b[49m))[\u001b[32m0\u001b[39m, \u001b[32m1\u001b[39m] ** \u001b[32m2\u001b[39m\n\u001b[32m    124\u001b[39m     \u001b[38;5;28;01mif\u001b[39;00m corr > best_score:\n\u001b[32m    125\u001b[39m         best_score = corr\n",
      "\u001b[31mKeyError\u001b[39m: 'noise'"
     ]
    }
   ],
   "source": [
    "# --- Run IDFC with noise cluster (rho=0.3) ---\n",
    "selected_features, pca_cluster = run_idfc(X, rho=0.3, verbose=True)\n",
    "\n",
    "print(\"🎯 Selected representative features:\")\n",
    "print(selected_features)"
   ]
  }
 ],
 "metadata": {
  "kernelspec": {
   "display_name": "idfc-env",
   "language": "python",
   "name": "python3"
  },
  "language_info": {
   "codemirror_mode": {
    "name": "ipython",
    "version": 3
   },
   "file_extension": ".py",
   "mimetype": "text/x-python",
   "name": "python",
   "nbconvert_exporter": "python",
   "pygments_lexer": "ipython3",
   "version": "3.13.5"
  }
 },
 "nbformat": 4,
 "nbformat_minor": 2
}
