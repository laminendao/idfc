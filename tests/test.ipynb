{
 "cells": [
  {
   "cell_type": "code",
   "execution_count": null,
   "metadata": {},
   "outputs": [],
   "source": [
    "from idfc.utils import compute_variable_correlations\n",
    "\n",
    "selected_features, clusters = run_idfc(X, rho=0.4)\n",
    "corrs = compute_variable_correlations(X, clusters, components)\n",
    "\n",
    "for cluster, df in corrs.items():\n",
    "    print(f\"\\n=== Cluster: {cluster} ===\")\n",
    "    print(df)"
   ]
  }
 ],
 "metadata": {
  "language_info": {
   "name": "python"
  }
 },
 "nbformat": 4,
 "nbformat_minor": 2
}
