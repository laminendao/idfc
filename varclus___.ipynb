{
 "cells": [
  {
   "cell_type": "code",
   "execution_count": 4,
   "metadata": {},
   "outputs": [],
   "source": [
    "import pickle\n",
    "import pandas as pd\n",
    "from varclushi import VarClusHi\n"
   ]
  },
  {
   "cell_type": "code",
   "execution_count": 23,
   "metadata": {},
   "outputs": [],
   "source": [
    "nom_fichier = \"df_training.pkl\"\n",
    "with open(nom_fichier, \"rb\") as fichier:\n",
    "    list_df_training = pickle.load(fichier)\n",
    "df_merged = pd.concat(list_df_training, ignore_index=True)"
   ]
  },
  {
   "cell_type": "code",
   "execution_count": 55,
   "metadata": {},
   "outputs": [],
   "source": [
    "X = df_merged.drop(columns=['bearing_id', 'window_index', 'RUL_norm'])\n",
    "X = X.dropna(axis=1)\n",
    "X_normalized = (X - X.min()) / (X.max() - X.min())\n",
    "X_normalized = X_normalized.dropna(axis=1)"
   ]
  },
  {
   "cell_type": "code",
   "execution_count": 63,
   "metadata": {},
   "outputs": [],
   "source": [
    "X_normalized.to_csv(\"data_cleaned/X_cleanpronostia.csv\")"
   ]
  },
  {
   "cell_type": "code",
   "execution_count": 58,
   "metadata": {},
   "outputs": [
    {
     "data": {
      "text/plain": [
       "<varclushi.varclushi.VarClusHi at 0x28c9acecee0>"
      ]
     },
     "execution_count": 58,
     "metadata": {},
     "output_type": "execute_result"
    }
   ],
   "source": [
    "resclv = VarClusHi(X_normalized,maxeigval2=1,maxclus=None)\n",
    "resclv.varclus()"
   ]
  },
  {
   "cell_type": "code",
   "execution_count": 64,
   "metadata": {},
   "outputs": [
    {
     "name": "stdout",
     "output_type": "stream",
     "text": [
      "(182, 1)\n"
     ]
    }
   ],
   "source": [
    "init_partition  = resclv.rsquare.Cluster.values\n",
    "init_partition = pd.DataFrame(init_partition)\n",
    "print(init_partition.shape)\n",
    "init_partition.columns = [\"cluster\"]\n",
    "init_partition.to_csv(\"init_partition/init_partition_pronostia.csv\")"
   ]
  }
 ],
 "metadata": {
  "kernelspec": {
   "display_name": "tensorflow_env",
   "language": "python",
   "name": "python3"
  },
  "language_info": {
   "codemirror_mode": {
    "name": "ipython",
    "version": 3
   },
   "file_extension": ".py",
   "mimetype": "text/x-python",
   "name": "python",
   "nbconvert_exporter": "python",
   "pygments_lexer": "ipython3",
   "version": "3.10.13"
  }
 },
 "nbformat": 4,
 "nbformat_minor": 2
}
